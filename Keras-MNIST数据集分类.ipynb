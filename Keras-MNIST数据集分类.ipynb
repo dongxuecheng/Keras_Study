{
 "cells": [
  {
   "cell_type": "code",
   "execution_count": 1,
   "id": "d89b084c",
   "metadata": {},
   "outputs": [],
   "source": [
    "from tensorflow.keras.datasets import mnist\n",
    "from tensorflow.keras. utils import to_categorical\n",
    "from tensorflow.keras.models import Sequential\n",
    "from tensorflow.keras.layers import Dense"
   ]
  },
  {
   "cell_type": "code",
   "execution_count": 2,
   "id": "2d843530",
   "metadata": {},
   "outputs": [],
   "source": [
    "#1.载入mnist数据集，分为训练集和测试集\n",
    "#x是28x28的手写数字像素单通道灰度图(灰度图的每个像素取值范围是[0-255])\n",
    "#y是该手写图片集所对应的0到9的标签\n",
    "(x_train,y_train),(x_test,y_test)=mnist.load_data()\n",
    "\n",
    "#2.改变数据尺寸\n",
    "# 训练集数据 x_train 的数据形状为（60000，28，28），6000张28*28的图片\n",
    "# 训练集标签 y_train 的数据形状为（60000）\n",
    "# 测试集数据 x_test 的数据形状为（10000，28，28）\n",
    "# 测试集标签 y_test 的数据形状为（10000）\n",
    "# 将（60000，28，28）->（60000，784），三维数据集转为二维的数据集\n",
    "# x_train.shape[0]表示第一个维度的值，-1表示自动将剩下两个维度值相乘\n",
    "x_train=x_train.reshape(x_train.shape[0],-1)\n",
    "x_test=x_test.reshape(x_test.shape[0],-1)\n",
    "\n",
    "#3.对x数据归一化\n",
    "#对训练集和测试集的数据进行归一化处理，有助于提升模型训练速度\n",
    "#本例中,归一化处理输入数据,就是把每个像素点的数据范围由[0-255]转为[0-1]\n",
    "x_train=x_train/255.0\n",
    "x_test=x_test/255.0\n",
    "\n",
    "#4.对y标签进行one-hot（独热编码）处理\n",
    "#通常会把分类问题的标签转化为独热编码的格式。\n",
    "#在手写数字识别的任务中，数字有0-9一共 10 中状态，所以每个数字都可以转换为长度为 10 的编码\n",
    "y_train=to_categorical(y_train,num_classes=10)\n",
    "y_test=to_categorical(y_test,num_classes=10)"
   ]
  },
  {
   "cell_type": "code",
   "execution_count": 3,
   "id": "53fdc8bc",
   "metadata": {},
   "outputs": [
    {
     "name": "stdout",
     "output_type": "stream",
     "text": [
      "Epoch 1/10\n",
      "1875/1875 [==============================] - 2s 815us/step - loss: 0.7821 - accuracy: 0.8117\n",
      "Epoch 2/10\n",
      "1875/1875 [==============================] - 2s 800us/step - loss: 0.4573 - accuracy: 0.8803\n",
      "Epoch 3/10\n",
      "1875/1875 [==============================] - 2s 837us/step - loss: 0.4039 - accuracy: 0.8913\n",
      "Epoch 4/10\n",
      "1875/1875 [==============================] - 1s 795us/step - loss: 0.3772 - accuracy: 0.8966\n",
      "Epoch 5/10\n",
      "1875/1875 [==============================] - 1s 796us/step - loss: 0.3604 - accuracy: 0.9005\n",
      "Epoch 6/10\n",
      "1875/1875 [==============================] - 1s 791us/step - loss: 0.3485 - accuracy: 0.9039\n",
      "Epoch 7/10\n",
      "1875/1875 [==============================] - 2s 805us/step - loss: 0.3394 - accuracy: 0.9060\n",
      "Epoch 8/10\n",
      "1875/1875 [==============================] - 2s 835us/step - loss: 0.3322 - accuracy: 0.9071\n",
      "Epoch 9/10\n",
      "1875/1875 [==============================] - 2s 827us/step - loss: 0.3264 - accuracy: 0.9091\n",
      "Epoch 10/10\n",
      "1875/1875 [==============================] - 2s 819us/step - loss: 0.3213 - accuracy: 0.9103\n",
      "313/313 [==============================] - 0s 746us/step - loss: 0.3063 - accuracy: 0.9169\n",
      "loss: 0.30632904171943665\n",
      "accuracy 0.9168999791145325\n"
     ]
    }
   ],
   "source": [
    "#1.创建模型，输入784个神经元，输出10个神经元,无隐藏层\n",
    "#激活函数softmax，表示将输出结果转为概率\n",
    "model=Sequential([\n",
    "    Dense(units=10,input_dim=784,activation='softmax')\n",
    "])\n",
    "\n",
    "#2.编译模型(代价函数是交叉熵)\n",
    "model.compile(optimizer='sgd',loss='categorical_crossentropy',metrics=['accuracy'])\n",
    "\n",
    "#3.训练模型\n",
    "#训练集中有60000张图片，每次训练拿到图片32张，直到60000张图片遍历一遍，叫做一个epoch\n",
    "model.fit(x_train,y_train,batch_size=32,epochs=10)\n",
    "\n",
    "#4.评估模型\n",
    "loss,accuracy=model.evaluate(x_test,y_test)\n",
    "print('loss:',loss)\n",
    "print('accuracy',accuracy)"
   ]
  },
  {
   "cell_type": "code",
   "execution_count": null,
   "id": "690b5a74",
   "metadata": {},
   "outputs": [],
   "source": []
  }
 ],
 "metadata": {
  "kernelspec": {
   "display_name": "Python 3 (ipykernel)",
   "language": "python",
   "name": "python3"
  },
  "language_info": {
   "codemirror_mode": {
    "name": "ipython",
    "version": 3
   },
   "file_extension": ".py",
   "mimetype": "text/x-python",
   "name": "python",
   "nbconvert_exporter": "python",
   "pygments_lexer": "ipython3",
   "version": "3.9.7"
  }
 },
 "nbformat": 4,
 "nbformat_minor": 5
}
