{
 "cells": [
  {
   "cell_type": "code",
   "execution_count": 9,
   "id": "ab4ca61b",
   "metadata": {},
   "outputs": [],
   "source": [
    "from tensorflow.keras.datasets import mnist\n",
    "from tensorflow.keras. utils import to_categorical\n",
    "from tensorflow.keras.models import Sequential\n",
    "from tensorflow.keras.layers import Dense,Dropout\n",
    "from tensorflow.keras.regularizers import l2"
   ]
  },
  {
   "cell_type": "code",
   "execution_count": 7,
   "id": "1643dc68",
   "metadata": {},
   "outputs": [],
   "source": [
    "(x_train,y_train),(x_test,y_test)=mnist.load_data()\n",
    "x_train=x_train.reshape(x_train.shape[0],-1)/255.0\n",
    "x_test=x_test.reshape(x_test.shape[0],-1)/255.0\n",
    "y_train=to_categorical(y_train,num_classes=10)\n",
    "y_test=to_categorical(y_test,num_classes=10)"
   ]
  },
  {
   "cell_type": "code",
   "execution_count": 11,
   "id": "1e37ec9b",
   "metadata": {},
   "outputs": [
    {
     "name": "stdout",
     "output_type": "stream",
     "text": [
      "Epoch 1/10\n",
      "1875/1875 [==============================] - 3s 2ms/step - loss: 0.5195 - accuracy: 0.8770\n",
      "Epoch 2/10\n",
      "1875/1875 [==============================] - 3s 2ms/step - loss: 0.3904 - accuracy: 0.9164\n",
      "Epoch 3/10\n",
      "1875/1875 [==============================] - 3s 2ms/step - loss: 0.3540 - accuracy: 0.9269\n",
      "Epoch 4/10\n",
      "1875/1875 [==============================] - 3s 2ms/step - loss: 0.3397 - accuracy: 0.9309\n",
      "Epoch 5/10\n",
      "1875/1875 [==============================] - 3s 2ms/step - loss: 0.3238 - accuracy: 0.9367\n",
      "Epoch 6/10\n",
      "1875/1875 [==============================] - 3s 2ms/step - loss: 0.3215 - accuracy: 0.9378\n",
      "Epoch 7/10\n",
      "1875/1875 [==============================] - 3s 2ms/step - loss: 0.3171 - accuracy: 0.9390\n",
      "Epoch 8/10\n",
      "1875/1875 [==============================] - 3s 2ms/step - loss: 0.3154 - accuracy: 0.9394\n",
      "Epoch 9/10\n",
      "1875/1875 [==============================] - 3s 2ms/step - loss: 0.3111 - accuracy: 0.9405\n",
      "Epoch 10/10\n",
      "1875/1875 [==============================] - 3s 2ms/step - loss: 0.3125 - accuracy: 0.9405\n",
      "313/313 [==============================] - 1s 1ms/step - loss: 0.2346 - accuracy: 0.9652\n",
      "test loss: 0.23464526236057281\n",
      "test accuracy 0.9652000069618225\n",
      "1875/1875 [==============================] - 3s 1ms/step - loss: 0.2253 - accuracy: 0.9674\n",
      "train loss: 0.22525987029075623\n",
      "train accuracy 0.9673500061035156\n"
     ]
    }
   ],
   "source": [
    "model=Sequential([\n",
    "    #正则化\n",
    "    Dense(units=200,input_dim=784,activation='tanh',kernel_regularizer=l2(0.0003)),\n",
    "    #随机让40%的神经元不工作，可能会提高模型的准确率，防止过拟合\n",
    "    Dropout(0.4),\n",
    "    Dense(units=100,activation='tanh',kernel_regularizer=l2(0.0003)),\n",
    "    Dropout(0.4),\n",
    "    Dense(units=10,activation='softmax',kernel_regularizer=l2(0.0003))\n",
    "])\n",
    "model.compile(optimizer='adam',loss='categorical_crossentropy',metrics=['accuracy'])\n",
    "model.fit(x_train,y_train,batch_size=32,epochs=10)\n",
    "loss,accuracy=model.evaluate(x_test,y_test)\n",
    "print('test loss:',loss)\n",
    "print('test accuracy',accuracy)\n",
    "loss,accuracy=model.evaluate(x_train,y_train)\n",
    "print('train loss:',loss)\n",
    "print('train accuracy',accuracy)"
   ]
  },
  {
   "cell_type": "code",
   "execution_count": null,
   "id": "77ef93ff",
   "metadata": {},
   "outputs": [],
   "source": []
  }
 ],
 "metadata": {
  "kernelspec": {
   "display_name": "Python 3 (ipykernel)",
   "language": "python",
   "name": "python3"
  },
  "language_info": {
   "codemirror_mode": {
    "name": "ipython",
    "version": 3
   },
   "file_extension": ".py",
   "mimetype": "text/x-python",
   "name": "python",
   "nbconvert_exporter": "python",
   "pygments_lexer": "ipython3",
   "version": "3.9.7"
  }
 },
 "nbformat": 4,
 "nbformat_minor": 5
}
